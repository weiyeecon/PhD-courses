{
 "cells": [
  {
   "cell_type": "code",
   "execution_count": 2,
   "metadata": {},
   "outputs": [],
   "source": [
    "import pandas as pd\n"
   ]
  },
  {
   "cell_type": "markdown",
   "metadata": {},
   "source": [
    "Since there is no column names and index in the original data set, I use `wooldridge` python package to fetch crime1 data set. It's data set from wooldridge's introduction to econometrics textbook. \n",
    "\n",
    "More introduction about this package can be found [here]{https://pypi.org/project/wooldridge/}."
   ]
  },
  {
   "cell_type": "code",
   "execution_count": 3,
   "metadata": {},
   "outputs": [],
   "source": [
    "import wooldridge"
   ]
  },
  {
   "cell_type": "code",
   "execution_count": 4,
   "metadata": {},
   "outputs": [],
   "source": [
    "crime = wooldridge.data('crime1')"
   ]
  },
  {
   "cell_type": "code",
   "execution_count": 5,
   "metadata": {},
   "outputs": [
    {
     "data": {
      "text/html": [
       "<div>\n",
       "<style scoped>\n",
       "    .dataframe tbody tr th:only-of-type {\n",
       "        vertical-align: middle;\n",
       "    }\n",
       "\n",
       "    .dataframe tbody tr th {\n",
       "        vertical-align: top;\n",
       "    }\n",
       "\n",
       "    .dataframe thead th {\n",
       "        text-align: right;\n",
       "    }\n",
       "</style>\n",
       "<table border=\"1\" class=\"dataframe\">\n",
       "  <thead>\n",
       "    <tr style=\"text-align: right;\">\n",
       "      <th></th>\n",
       "      <th>narr86</th>\n",
       "      <th>nfarr86</th>\n",
       "      <th>nparr86</th>\n",
       "      <th>pcnv</th>\n",
       "      <th>avgsen</th>\n",
       "      <th>tottime</th>\n",
       "      <th>ptime86</th>\n",
       "      <th>qemp86</th>\n",
       "      <th>inc86</th>\n",
       "      <th>durat</th>\n",
       "      <th>black</th>\n",
       "      <th>hispan</th>\n",
       "      <th>born60</th>\n",
       "      <th>pcnvsq</th>\n",
       "      <th>pt86sq</th>\n",
       "      <th>inc86sq</th>\n",
       "    </tr>\n",
       "  </thead>\n",
       "  <tbody>\n",
       "    <tr>\n",
       "      <th>0</th>\n",
       "      <td>0</td>\n",
       "      <td>0</td>\n",
       "      <td>0</td>\n",
       "      <td>0.38</td>\n",
       "      <td>17.600000</td>\n",
       "      <td>35.200001</td>\n",
       "      <td>12</td>\n",
       "      <td>0.0</td>\n",
       "      <td>0.0</td>\n",
       "      <td>0.0</td>\n",
       "      <td>0</td>\n",
       "      <td>0</td>\n",
       "      <td>1</td>\n",
       "      <td>0.1444</td>\n",
       "      <td>144</td>\n",
       "      <td>0.000000</td>\n",
       "    </tr>\n",
       "    <tr>\n",
       "      <th>1</th>\n",
       "      <td>2</td>\n",
       "      <td>2</td>\n",
       "      <td>0</td>\n",
       "      <td>0.44</td>\n",
       "      <td>0.000000</td>\n",
       "      <td>0.000000</td>\n",
       "      <td>0</td>\n",
       "      <td>1.0</td>\n",
       "      <td>0.8</td>\n",
       "      <td>0.0</td>\n",
       "      <td>0</td>\n",
       "      <td>1</td>\n",
       "      <td>0</td>\n",
       "      <td>0.1936</td>\n",
       "      <td>0</td>\n",
       "      <td>0.640000</td>\n",
       "    </tr>\n",
       "    <tr>\n",
       "      <th>2</th>\n",
       "      <td>1</td>\n",
       "      <td>1</td>\n",
       "      <td>0</td>\n",
       "      <td>0.33</td>\n",
       "      <td>22.799999</td>\n",
       "      <td>22.799999</td>\n",
       "      <td>0</td>\n",
       "      <td>0.0</td>\n",
       "      <td>0.0</td>\n",
       "      <td>11.0</td>\n",
       "      <td>1</td>\n",
       "      <td>0</td>\n",
       "      <td>1</td>\n",
       "      <td>0.1089</td>\n",
       "      <td>0</td>\n",
       "      <td>0.000000</td>\n",
       "    </tr>\n",
       "    <tr>\n",
       "      <th>3</th>\n",
       "      <td>2</td>\n",
       "      <td>2</td>\n",
       "      <td>1</td>\n",
       "      <td>0.25</td>\n",
       "      <td>0.000000</td>\n",
       "      <td>0.000000</td>\n",
       "      <td>5</td>\n",
       "      <td>2.0</td>\n",
       "      <td>8.8</td>\n",
       "      <td>0.0</td>\n",
       "      <td>0</td>\n",
       "      <td>1</td>\n",
       "      <td>1</td>\n",
       "      <td>0.0625</td>\n",
       "      <td>25</td>\n",
       "      <td>77.440002</td>\n",
       "    </tr>\n",
       "    <tr>\n",
       "      <th>4</th>\n",
       "      <td>1</td>\n",
       "      <td>1</td>\n",
       "      <td>0</td>\n",
       "      <td>0.00</td>\n",
       "      <td>0.000000</td>\n",
       "      <td>0.000000</td>\n",
       "      <td>0</td>\n",
       "      <td>2.0</td>\n",
       "      <td>8.1</td>\n",
       "      <td>1.0</td>\n",
       "      <td>0</td>\n",
       "      <td>0</td>\n",
       "      <td>0</td>\n",
       "      <td>0.0000</td>\n",
       "      <td>0</td>\n",
       "      <td>65.610008</td>\n",
       "    </tr>\n",
       "  </tbody>\n",
       "</table>\n",
       "</div>"
      ],
      "text/plain": [
       "   narr86  nfarr86  nparr86  pcnv     avgsen    tottime  ptime86  qemp86  \\\n",
       "0       0        0        0  0.38  17.600000  35.200001       12     0.0   \n",
       "1       2        2        0  0.44   0.000000   0.000000        0     1.0   \n",
       "2       1        1        0  0.33  22.799999  22.799999        0     0.0   \n",
       "3       2        2        1  0.25   0.000000   0.000000        5     2.0   \n",
       "4       1        1        0  0.00   0.000000   0.000000        0     2.0   \n",
       "\n",
       "   inc86  durat  black  hispan  born60  pcnvsq  pt86sq    inc86sq  \n",
       "0    0.0    0.0      0       0       1  0.1444     144   0.000000  \n",
       "1    0.8    0.0      0       1       0  0.1936       0   0.640000  \n",
       "2    0.0   11.0      1       0       1  0.1089       0   0.000000  \n",
       "3    8.8    0.0      0       1       1  0.0625      25  77.440002  \n",
       "4    8.1    1.0      0       0       0  0.0000       0  65.610008  "
      ]
     },
     "execution_count": 5,
     "metadata": {},
     "output_type": "execute_result"
    }
   ],
   "source": [
    "crime.head()"
   ]
  },
  {
   "cell_type": "markdown",
   "metadata": {},
   "source": [
    "## Part1: Regularization"
   ]
  },
  {
   "cell_type": "markdown",
   "metadata": {},
   "source": [
    "### 1\n",
    "(1) Regress narr86 on pcnv, avgsen, ptime86, qemp86, inc86. Also include all squares and all interactions for those features.\n",
    "\n",
    "(2) Finally, add the controls black and hispan. \n",
    "\n",
    "(3) Discuss what you learn from the output from this regression.\n",
    "\n",
    "(4) Which variables are statistically significant?\n",
    "\n",
    "(5) What is the regression $r^2$?"
   ]
  },
  {
   "cell_type": "code",
   "execution_count": 9,
   "metadata": {},
   "outputs": [],
   "source": [
    "#(1): Simple OLS\n",
    "import statsmodels.api as sm\n",
    "import numpy as np\n",
    "\n"
   ]
  },
  {
   "cell_type": "code",
   "execution_count": 10,
   "metadata": {},
   "outputs": [],
   "source": [
    "crime['qemp86sq']= crime['qemp86']*crime['qemp86']\n",
    "crime['avgsensq']= crime['avgsen']* crime['avgsen']\n",
    "crime['pcnavg']= crime['pcnv'] * crime['avgsen']\n",
    "crime['pcnpti']=crime['pcnv'] *crime['ptime86']\n",
    "crime['pcnqem']= crime['pcnv']*crime['qemp86']\n",
    "crime['pcninc']= crime['pcnv']*crime['inc86']\n",
    "crime['avgpti']= crime['avgsen']*crime['ptime86']\n",
    "crime['avgqem']=crime['avgsen']*crime['qemp86']\n",
    "crime['avginc']= crime['avgsen']*crime['inc86']\n",
    "crime['ptiqem']=crime['ptime86']*crime['qemp86']\n",
    "crime['ptiinc']= crime['ptime86']*crime['inc86']\n",
    "crime['qeminc'] = crime['qemp86']*crime['inc86']"
   ]
  },
  {
   "cell_type": "code",
   "execution_count": 11,
   "metadata": {},
   "outputs": [
    {
     "data": {
      "text/html": [
       "<div>\n",
       "<style scoped>\n",
       "    .dataframe tbody tr th:only-of-type {\n",
       "        vertical-align: middle;\n",
       "    }\n",
       "\n",
       "    .dataframe tbody tr th {\n",
       "        vertical-align: top;\n",
       "    }\n",
       "\n",
       "    .dataframe thead th {\n",
       "        text-align: right;\n",
       "    }\n",
       "</style>\n",
       "<table border=\"1\" class=\"dataframe\">\n",
       "  <thead>\n",
       "    <tr style=\"text-align: right;\">\n",
       "      <th></th>\n",
       "      <th>narr86</th>\n",
       "      <th>nfarr86</th>\n",
       "      <th>nparr86</th>\n",
       "      <th>pcnv</th>\n",
       "      <th>avgsen</th>\n",
       "      <th>tottime</th>\n",
       "      <th>ptime86</th>\n",
       "      <th>qemp86</th>\n",
       "      <th>inc86</th>\n",
       "      <th>durat</th>\n",
       "      <th>...</th>\n",
       "      <th>pcnavg</th>\n",
       "      <th>pcnpti</th>\n",
       "      <th>pcnqem</th>\n",
       "      <th>pcninc</th>\n",
       "      <th>avgpti</th>\n",
       "      <th>avgqem</th>\n",
       "      <th>avginc</th>\n",
       "      <th>ptiqem</th>\n",
       "      <th>ptiinc</th>\n",
       "      <th>qeminc</th>\n",
       "    </tr>\n",
       "  </thead>\n",
       "  <tbody>\n",
       "    <tr>\n",
       "      <th>0</th>\n",
       "      <td>0</td>\n",
       "      <td>0</td>\n",
       "      <td>0</td>\n",
       "      <td>0.38</td>\n",
       "      <td>17.600000</td>\n",
       "      <td>35.200001</td>\n",
       "      <td>12</td>\n",
       "      <td>0.0</td>\n",
       "      <td>0.0</td>\n",
       "      <td>0.0</td>\n",
       "      <td>...</td>\n",
       "      <td>6.688</td>\n",
       "      <td>4.56</td>\n",
       "      <td>0.00</td>\n",
       "      <td>0.000</td>\n",
       "      <td>211.200005</td>\n",
       "      <td>0.0</td>\n",
       "      <td>0.0</td>\n",
       "      <td>0.0</td>\n",
       "      <td>0.000000</td>\n",
       "      <td>0.000000</td>\n",
       "    </tr>\n",
       "    <tr>\n",
       "      <th>1</th>\n",
       "      <td>2</td>\n",
       "      <td>2</td>\n",
       "      <td>0</td>\n",
       "      <td>0.44</td>\n",
       "      <td>0.000000</td>\n",
       "      <td>0.000000</td>\n",
       "      <td>0</td>\n",
       "      <td>1.0</td>\n",
       "      <td>0.8</td>\n",
       "      <td>0.0</td>\n",
       "      <td>...</td>\n",
       "      <td>0.000</td>\n",
       "      <td>0.00</td>\n",
       "      <td>0.44</td>\n",
       "      <td>0.352</td>\n",
       "      <td>0.000000</td>\n",
       "      <td>0.0</td>\n",
       "      <td>0.0</td>\n",
       "      <td>0.0</td>\n",
       "      <td>0.000000</td>\n",
       "      <td>0.800000</td>\n",
       "    </tr>\n",
       "    <tr>\n",
       "      <th>2</th>\n",
       "      <td>1</td>\n",
       "      <td>1</td>\n",
       "      <td>0</td>\n",
       "      <td>0.33</td>\n",
       "      <td>22.799999</td>\n",
       "      <td>22.799999</td>\n",
       "      <td>0</td>\n",
       "      <td>0.0</td>\n",
       "      <td>0.0</td>\n",
       "      <td>11.0</td>\n",
       "      <td>...</td>\n",
       "      <td>7.524</td>\n",
       "      <td>0.00</td>\n",
       "      <td>0.00</td>\n",
       "      <td>0.000</td>\n",
       "      <td>0.000000</td>\n",
       "      <td>0.0</td>\n",
       "      <td>0.0</td>\n",
       "      <td>0.0</td>\n",
       "      <td>0.000000</td>\n",
       "      <td>0.000000</td>\n",
       "    </tr>\n",
       "    <tr>\n",
       "      <th>3</th>\n",
       "      <td>2</td>\n",
       "      <td>2</td>\n",
       "      <td>1</td>\n",
       "      <td>0.25</td>\n",
       "      <td>0.000000</td>\n",
       "      <td>0.000000</td>\n",
       "      <td>5</td>\n",
       "      <td>2.0</td>\n",
       "      <td>8.8</td>\n",
       "      <td>0.0</td>\n",
       "      <td>...</td>\n",
       "      <td>0.000</td>\n",
       "      <td>1.25</td>\n",
       "      <td>0.50</td>\n",
       "      <td>2.200</td>\n",
       "      <td>0.000000</td>\n",
       "      <td>0.0</td>\n",
       "      <td>0.0</td>\n",
       "      <td>10.0</td>\n",
       "      <td>44.000001</td>\n",
       "      <td>17.600000</td>\n",
       "    </tr>\n",
       "    <tr>\n",
       "      <th>4</th>\n",
       "      <td>1</td>\n",
       "      <td>1</td>\n",
       "      <td>0</td>\n",
       "      <td>0.00</td>\n",
       "      <td>0.000000</td>\n",
       "      <td>0.000000</td>\n",
       "      <td>0</td>\n",
       "      <td>2.0</td>\n",
       "      <td>8.1</td>\n",
       "      <td>1.0</td>\n",
       "      <td>...</td>\n",
       "      <td>0.000</td>\n",
       "      <td>0.00</td>\n",
       "      <td>0.00</td>\n",
       "      <td>0.000</td>\n",
       "      <td>0.000000</td>\n",
       "      <td>0.0</td>\n",
       "      <td>0.0</td>\n",
       "      <td>0.0</td>\n",
       "      <td>0.000000</td>\n",
       "      <td>16.200001</td>\n",
       "    </tr>\n",
       "  </tbody>\n",
       "</table>\n",
       "<p>5 rows × 28 columns</p>\n",
       "</div>"
      ],
      "text/plain": [
       "   narr86  nfarr86  nparr86  pcnv     avgsen    tottime  ptime86  qemp86  \\\n",
       "0       0        0        0  0.38  17.600000  35.200001       12     0.0   \n",
       "1       2        2        0  0.44   0.000000   0.000000        0     1.0   \n",
       "2       1        1        0  0.33  22.799999  22.799999        0     0.0   \n",
       "3       2        2        1  0.25   0.000000   0.000000        5     2.0   \n",
       "4       1        1        0  0.00   0.000000   0.000000        0     2.0   \n",
       "\n",
       "   inc86  durat  ...  pcnavg  pcnpti  pcnqem  pcninc      avgpti  avgqem  \\\n",
       "0    0.0    0.0  ...   6.688    4.56    0.00   0.000  211.200005     0.0   \n",
       "1    0.8    0.0  ...   0.000    0.00    0.44   0.352    0.000000     0.0   \n",
       "2    0.0   11.0  ...   7.524    0.00    0.00   0.000    0.000000     0.0   \n",
       "3    8.8    0.0  ...   0.000    1.25    0.50   2.200    0.000000     0.0   \n",
       "4    8.1    1.0  ...   0.000    0.00    0.00   0.000    0.000000     0.0   \n",
       "\n",
       "   avginc  ptiqem     ptiinc     qeminc  \n",
       "0     0.0     0.0   0.000000   0.000000  \n",
       "1     0.0     0.0   0.000000   0.800000  \n",
       "2     0.0     0.0   0.000000   0.000000  \n",
       "3     0.0    10.0  44.000001  17.600000  \n",
       "4     0.0     0.0   0.000000  16.200001  \n",
       "\n",
       "[5 rows x 28 columns]"
      ]
     },
     "execution_count": 11,
     "metadata": {},
     "output_type": "execute_result"
    }
   ],
   "source": [
    "crime.head()"
   ]
  },
  {
   "cell_type": "code",
   "execution_count": 12,
   "metadata": {},
   "outputs": [
    {
     "name": "stdout",
     "output_type": "stream",
     "text": [
      "Index(['narr86', 'nfarr86', 'nparr86', 'pcnv', 'avgsen', 'tottime', 'ptime86',\n",
      "       'qemp86', 'inc86', 'durat', 'black', 'hispan', 'born60', 'pcnvsq',\n",
      "       'pt86sq', 'inc86sq', 'qemp86sq', 'avgsensq', 'pcnavg', 'pcnpti',\n",
      "       'pcnqem', 'pcninc', 'avgpti', 'avgqem', 'avginc', 'ptiqem', 'ptiinc',\n",
      "       'qeminc'],\n",
      "      dtype='object')\n"
     ]
    }
   ],
   "source": [
    "print(crime.columns) #for copying the columns names easily"
   ]
  },
  {
   "cell_type": "code",
   "execution_count": 40,
   "metadata": {},
   "outputs": [],
   "source": [
    "X = crime[['pcnv','avgsen','ptime86','qemp86','inc86','pcnvsq',\n",
    "       'pt86sq', 'inc86sq','qemp86sq', 'avgsensq', 'pcnavg', 'pcnpti',\n",
    "       'pcnqem', 'pcninc', 'avgpti', 'avgqem', 'avginc', 'ptiqem', 'ptiinc',\n",
    "       'qeminc']]\n",
    "y = crime['narr86']\n",
    "X = sm.add_constant(X)# add constant term. \n",
    "model = sm.OLS(y,X)\n",
    "result = model.fit()"
   ]
  },
  {
   "cell_type": "code",
   "execution_count": 41,
   "metadata": {},
   "outputs": [
    {
     "name": "stdout",
     "output_type": "stream",
     "text": [
      "const       0.552649\n",
      "pcnv        0.633250\n",
      "avgsen      0.004819\n",
      "ptime86     0.324873\n",
      "qemp86      0.173927\n",
      "inc86      -0.011056\n",
      "pcnvsq     -0.810280\n",
      "pt86sq     -0.031513\n",
      "inc86sq     0.000003\n",
      "qemp86sq   -0.051785\n",
      "avgsensq   -0.000214\n",
      "pcnavg      0.018007\n",
      "pcnpti     -0.012248\n",
      "pcnqem     -0.031307\n",
      "pcninc      0.000817\n",
      "avgpti     -0.000954\n",
      "avgqem     -0.000216\n",
      "avginc     -0.000129\n",
      "ptiqem      0.023528\n",
      "ptiinc     -0.005667\n",
      "qeminc      0.002268\n",
      "dtype: float64\n"
     ]
    }
   ],
   "source": [
    "print(result.params)\n"
   ]
  },
  {
   "cell_type": "code",
   "execution_count": 42,
   "metadata": {},
   "outputs": [
    {
     "name": "stdout",
     "output_type": "stream",
     "text": [
      "t values are: const       12.268344\n",
      "pcnv         3.796108\n",
      "avgsen       0.335751\n",
      "ptime86      5.494146\n",
      "qemp86       2.983337\n",
      "inc86       -4.245533\n",
      "pcnvsq      -5.150078\n",
      "pt86sq      -6.433606\n",
      "inc86sq      0.993801\n",
      "qemp86sq    -3.339710\n",
      "avgsensq    -0.615373\n",
      "pcnavg       0.951383\n",
      "pcnpti      -0.382651\n",
      "pcnqem      -0.875892\n",
      "pcninc       1.037247\n",
      "avgpti      -0.758298\n",
      "avgqem      -0.044081\n",
      "avginc      -0.753292\n",
      "ptiqem       0.522195\n",
      "ptiinc      -1.708728\n",
      "qeminc       3.071304\n",
      "dtype: float64\n"
     ]
    }
   ],
   "source": [
    "print('t values are:', result.tvalues)"
   ]
  },
  {
   "cell_type": "code",
   "execution_count": 43,
   "metadata": {},
   "outputs": [
    {
     "name": "stdout",
     "output_type": "stream",
     "text": [
      "$R^2$ without black and hispan 0.09346585509182115\n"
     ]
    }
   ],
   "source": [
    "print('$R^2$ without black and hispan',result.rsquared)"
   ]
  },
  {
   "cell_type": "code",
   "execution_count": 52,
   "metadata": {},
   "outputs": [
    {
     "data": {
      "text/html": [
       "<table class=\"simpletable\">\n",
       "<caption>OLS Regression Results</caption>\n",
       "<tr>\n",
       "  <th>Dep. Variable:</th>         <td>narr86</td>      <th>  R-squared:         </th> <td>   0.093</td>\n",
       "</tr>\n",
       "<tr>\n",
       "  <th>Model:</th>                   <td>OLS</td>       <th>  Adj. R-squared:    </th> <td>   0.087</td>\n",
       "</tr>\n",
       "<tr>\n",
       "  <th>Method:</th>             <td>Least Squares</td>  <th>  F-statistic:       </th> <td>   13.94</td>\n",
       "</tr>\n",
       "<tr>\n",
       "  <th>Date:</th>             <td>Thu, 23 Mar 2023</td> <th>  Prob (F-statistic):</th> <td>6.05e-45</td>\n",
       "</tr>\n",
       "<tr>\n",
       "  <th>Time:</th>                 <td>15:03:00</td>     <th>  Log-Likelihood:    </th> <td> -3318.5</td>\n",
       "</tr>\n",
       "<tr>\n",
       "  <th>No. Observations:</th>      <td>  2725</td>      <th>  AIC:               </th> <td>   6679.</td>\n",
       "</tr>\n",
       "<tr>\n",
       "  <th>Df Residuals:</th>          <td>  2704</td>      <th>  BIC:               </th> <td>   6803.</td>\n",
       "</tr>\n",
       "<tr>\n",
       "  <th>Df Model:</th>              <td>    20</td>      <th>                     </th>     <td> </td>   \n",
       "</tr>\n",
       "<tr>\n",
       "  <th>Covariance Type:</th>      <td>nonrobust</td>    <th>                     </th>     <td> </td>   \n",
       "</tr>\n",
       "</table>\n",
       "<table class=\"simpletable\">\n",
       "<tr>\n",
       "      <td></td>        <th>coef</th>     <th>std err</th>      <th>t</th>      <th>P>|t|</th>  <th>[0.025</th>    <th>0.975]</th>  \n",
       "</tr>\n",
       "<tr>\n",
       "  <th>const</th>    <td>    0.5526</td> <td>    0.045</td> <td>   12.268</td> <td> 0.000</td> <td>    0.464</td> <td>    0.641</td>\n",
       "</tr>\n",
       "<tr>\n",
       "  <th>pcnv</th>     <td>    0.6332</td> <td>    0.167</td> <td>    3.796</td> <td> 0.000</td> <td>    0.306</td> <td>    0.960</td>\n",
       "</tr>\n",
       "<tr>\n",
       "  <th>avgsen</th>   <td>    0.0048</td> <td>    0.014</td> <td>    0.336</td> <td> 0.737</td> <td>   -0.023</td> <td>    0.033</td>\n",
       "</tr>\n",
       "<tr>\n",
       "  <th>ptime86</th>  <td>    0.3249</td> <td>    0.059</td> <td>    5.494</td> <td> 0.000</td> <td>    0.209</td> <td>    0.441</td>\n",
       "</tr>\n",
       "<tr>\n",
       "  <th>qemp86</th>   <td>    0.1739</td> <td>    0.058</td> <td>    2.983</td> <td> 0.003</td> <td>    0.060</td> <td>    0.288</td>\n",
       "</tr>\n",
       "<tr>\n",
       "  <th>inc86</th>    <td>   -0.0111</td> <td>    0.003</td> <td>   -4.246</td> <td> 0.000</td> <td>   -0.016</td> <td>   -0.006</td>\n",
       "</tr>\n",
       "<tr>\n",
       "  <th>pcnvsq</th>   <td>   -0.8103</td> <td>    0.157</td> <td>   -5.150</td> <td> 0.000</td> <td>   -1.119</td> <td>   -0.502</td>\n",
       "</tr>\n",
       "<tr>\n",
       "  <th>pt86sq</th>   <td>   -0.0315</td> <td>    0.005</td> <td>   -6.434</td> <td> 0.000</td> <td>   -0.041</td> <td>   -0.022</td>\n",
       "</tr>\n",
       "<tr>\n",
       "  <th>inc86sq</th>  <td> 2.896e-06</td> <td> 2.91e-06</td> <td>    0.994</td> <td> 0.320</td> <td>-2.82e-06</td> <td> 8.61e-06</td>\n",
       "</tr>\n",
       "<tr>\n",
       "  <th>qemp86sq</th> <td>   -0.0518</td> <td>    0.016</td> <td>   -3.340</td> <td> 0.001</td> <td>   -0.082</td> <td>   -0.021</td>\n",
       "</tr>\n",
       "<tr>\n",
       "  <th>avgsensq</th> <td>   -0.0002</td> <td>    0.000</td> <td>   -0.615</td> <td> 0.538</td> <td>   -0.001</td> <td>    0.000</td>\n",
       "</tr>\n",
       "<tr>\n",
       "  <th>pcnavg</th>   <td>    0.0180</td> <td>    0.019</td> <td>    0.951</td> <td> 0.341</td> <td>   -0.019</td> <td>    0.055</td>\n",
       "</tr>\n",
       "<tr>\n",
       "  <th>pcnpti</th>   <td>   -0.0122</td> <td>    0.032</td> <td>   -0.383</td> <td> 0.702</td> <td>   -0.075</td> <td>    0.051</td>\n",
       "</tr>\n",
       "<tr>\n",
       "  <th>pcnqem</th>   <td>   -0.0313</td> <td>    0.036</td> <td>   -0.876</td> <td> 0.381</td> <td>   -0.101</td> <td>    0.039</td>\n",
       "</tr>\n",
       "<tr>\n",
       "  <th>pcninc</th>   <td>    0.0008</td> <td>    0.001</td> <td>    1.037</td> <td> 0.300</td> <td>   -0.001</td> <td>    0.002</td>\n",
       "</tr>\n",
       "<tr>\n",
       "  <th>avgpti</th>   <td>   -0.0010</td> <td>    0.001</td> <td>   -0.758</td> <td> 0.448</td> <td>   -0.003</td> <td>    0.002</td>\n",
       "</tr>\n",
       "<tr>\n",
       "  <th>avgqem</th>   <td>   -0.0002</td> <td>    0.005</td> <td>   -0.044</td> <td> 0.965</td> <td>   -0.010</td> <td>    0.009</td>\n",
       "</tr>\n",
       "<tr>\n",
       "  <th>avginc</th>   <td>   -0.0001</td> <td>    0.000</td> <td>   -0.753</td> <td> 0.451</td> <td>   -0.000</td> <td>    0.000</td>\n",
       "</tr>\n",
       "<tr>\n",
       "  <th>ptiqem</th>   <td>    0.0235</td> <td>    0.045</td> <td>    0.522</td> <td> 0.602</td> <td>   -0.065</td> <td>    0.112</td>\n",
       "</tr>\n",
       "<tr>\n",
       "  <th>ptiinc</th>   <td>   -0.0057</td> <td>    0.003</td> <td>   -1.709</td> <td> 0.088</td> <td>   -0.012</td> <td>    0.001</td>\n",
       "</tr>\n",
       "<tr>\n",
       "  <th>qeminc</th>   <td>    0.0023</td> <td>    0.001</td> <td>    3.071</td> <td> 0.002</td> <td>    0.001</td> <td>    0.004</td>\n",
       "</tr>\n",
       "</table>\n",
       "<table class=\"simpletable\">\n",
       "<tr>\n",
       "  <th>Omnibus:</th>       <td>2410.628</td> <th>  Durbin-Watson:     </th>  <td>   1.822</td> \n",
       "</tr>\n",
       "<tr>\n",
       "  <th>Prob(Omnibus):</th>  <td> 0.000</td>  <th>  Jarque-Bera (JB):  </th> <td>117751.296</td>\n",
       "</tr>\n",
       "<tr>\n",
       "  <th>Skew:</th>           <td> 4.004</td>  <th>  Prob(JB):          </th>  <td>    0.00</td> \n",
       "</tr>\n",
       "<tr>\n",
       "  <th>Kurtosis:</th>       <td>34.192</td>  <th>  Cond. No.          </th>  <td>2.55e+05</td> \n",
       "</tr>\n",
       "</table><br/><br/>Notes:<br/>[1] Standard Errors assume that the covariance matrix of the errors is correctly specified.<br/>[2] The condition number is large, 2.55e+05. This might indicate that there are<br/>strong multicollinearity or other numerical problems."
      ],
      "text/plain": [
       "<class 'statsmodels.iolib.summary.Summary'>\n",
       "\"\"\"\n",
       "                            OLS Regression Results                            \n",
       "==============================================================================\n",
       "Dep. Variable:                 narr86   R-squared:                       0.093\n",
       "Model:                            OLS   Adj. R-squared:                  0.087\n",
       "Method:                 Least Squares   F-statistic:                     13.94\n",
       "Date:                Thu, 23 Mar 2023   Prob (F-statistic):           6.05e-45\n",
       "Time:                        15:03:00   Log-Likelihood:                -3318.5\n",
       "No. Observations:                2725   AIC:                             6679.\n",
       "Df Residuals:                    2704   BIC:                             6803.\n",
       "Df Model:                          20                                         \n",
       "Covariance Type:            nonrobust                                         \n",
       "==============================================================================\n",
       "                 coef    std err          t      P>|t|      [0.025      0.975]\n",
       "------------------------------------------------------------------------------\n",
       "const          0.5526      0.045     12.268      0.000       0.464       0.641\n",
       "pcnv           0.6332      0.167      3.796      0.000       0.306       0.960\n",
       "avgsen         0.0048      0.014      0.336      0.737      -0.023       0.033\n",
       "ptime86        0.3249      0.059      5.494      0.000       0.209       0.441\n",
       "qemp86         0.1739      0.058      2.983      0.003       0.060       0.288\n",
       "inc86         -0.0111      0.003     -4.246      0.000      -0.016      -0.006\n",
       "pcnvsq        -0.8103      0.157     -5.150      0.000      -1.119      -0.502\n",
       "pt86sq        -0.0315      0.005     -6.434      0.000      -0.041      -0.022\n",
       "inc86sq     2.896e-06   2.91e-06      0.994      0.320   -2.82e-06    8.61e-06\n",
       "qemp86sq      -0.0518      0.016     -3.340      0.001      -0.082      -0.021\n",
       "avgsensq      -0.0002      0.000     -0.615      0.538      -0.001       0.000\n",
       "pcnavg         0.0180      0.019      0.951      0.341      -0.019       0.055\n",
       "pcnpti        -0.0122      0.032     -0.383      0.702      -0.075       0.051\n",
       "pcnqem        -0.0313      0.036     -0.876      0.381      -0.101       0.039\n",
       "pcninc         0.0008      0.001      1.037      0.300      -0.001       0.002\n",
       "avgpti        -0.0010      0.001     -0.758      0.448      -0.003       0.002\n",
       "avgqem        -0.0002      0.005     -0.044      0.965      -0.010       0.009\n",
       "avginc        -0.0001      0.000     -0.753      0.451      -0.000       0.000\n",
       "ptiqem         0.0235      0.045      0.522      0.602      -0.065       0.112\n",
       "ptiinc        -0.0057      0.003     -1.709      0.088      -0.012       0.001\n",
       "qeminc         0.0023      0.001      3.071      0.002       0.001       0.004\n",
       "==============================================================================\n",
       "Omnibus:                     2410.628   Durbin-Watson:                   1.822\n",
       "Prob(Omnibus):                  0.000   Jarque-Bera (JB):           117751.296\n",
       "Skew:                           4.004   Prob(JB):                         0.00\n",
       "Kurtosis:                      34.192   Cond. No.                     2.55e+05\n",
       "==============================================================================\n",
       "\n",
       "Notes:\n",
       "[1] Standard Errors assume that the covariance matrix of the errors is correctly specified.\n",
       "[2] The condition number is large, 2.55e+05. This might indicate that there are\n",
       "strong multicollinearity or other numerical problems.\n",
       "\"\"\""
      ]
     },
     "execution_count": 52,
     "metadata": {},
     "output_type": "execute_result"
    }
   ],
   "source": [
    "result.summary()"
   ]
  },
  {
   "cell_type": "code",
   "execution_count": 46,
   "metadata": {},
   "outputs": [],
   "source": [
    "#(2) add black and hispanic\n",
    "X_new = crime[['pcnv','avgsen','ptime86','qemp86','inc86','pcnvsq',\n",
    "       'pt86sq', 'inc86sq','qemp86sq', 'avgsensq', 'pcnavg', 'pcnpti',\n",
    "       'pcnqem', 'pcninc', 'avgpti', 'avgqem', 'avginc', 'ptiqem', 'ptiinc',\n",
    "       'qeminc','black','hispan']]\n",
    "\n"
   ]
  },
  {
   "cell_type": "code",
   "execution_count": 47,
   "metadata": {},
   "outputs": [
    {
     "name": "stdout",
     "output_type": "stream",
     "text": [
      "const       0.458598\n",
      "pcnv        0.546694\n",
      "avgsen      0.001840\n",
      "ptime86     0.316176\n",
      "qemp86      0.175901\n",
      "inc86      -0.010109\n",
      "pcnvsq     -0.705407\n",
      "pt86sq     -0.031265\n",
      "inc86sq     0.000002\n",
      "qemp86sq   -0.052179\n",
      "avgsensq   -0.000169\n",
      "pcnavg      0.015065\n",
      "pcnpti     -0.002917\n",
      "pcnqem     -0.029758\n",
      "pcninc      0.000823\n",
      "avgpti     -0.000940\n",
      "avgqem     -0.000517\n",
      "avginc     -0.000087\n",
      "ptiqem      0.015631\n",
      "ptiinc     -0.005616\n",
      "qeminc      0.002093\n",
      "black       0.291426\n",
      "hispan      0.161232\n",
      "dtype: float64\n"
     ]
    }
   ],
   "source": [
    "X_new = sm.add_constant(X_new)\n",
    "models = sm.OLS(y,X_new)\n",
    "results_b_h = models.fit()\n",
    "print(results_b_h.params)"
   ]
  },
  {
   "cell_type": "code",
   "execution_count": 51,
   "metadata": {},
   "outputs": [
    {
     "data": {
      "text/html": [
       "<table class=\"simpletable\">\n",
       "<caption>OLS Regression Results</caption>\n",
       "<tr>\n",
       "  <th>Dep. Variable:</th>         <td>narr86</td>      <th>  R-squared:         </th> <td>   0.110</td>\n",
       "</tr>\n",
       "<tr>\n",
       "  <th>Model:</th>                   <td>OLS</td>       <th>  Adj. R-squared:    </th> <td>   0.102</td>\n",
       "</tr>\n",
       "<tr>\n",
       "  <th>Method:</th>             <td>Least Squares</td>  <th>  F-statistic:       </th> <td>   15.11</td>\n",
       "</tr>\n",
       "<tr>\n",
       "  <th>Date:</th>             <td>Thu, 23 Mar 2023</td> <th>  Prob (F-statistic):</th> <td>1.31e-53</td>\n",
       "</tr>\n",
       "<tr>\n",
       "  <th>Time:</th>                 <td>15:02:23</td>     <th>  Log-Likelihood:    </th> <td> -3294.1</td>\n",
       "</tr>\n",
       "<tr>\n",
       "  <th>No. Observations:</th>      <td>  2725</td>      <th>  AIC:               </th> <td>   6634.</td>\n",
       "</tr>\n",
       "<tr>\n",
       "  <th>Df Residuals:</th>          <td>  2702</td>      <th>  BIC:               </th> <td>   6770.</td>\n",
       "</tr>\n",
       "<tr>\n",
       "  <th>Df Model:</th>              <td>    22</td>      <th>                     </th>     <td> </td>   \n",
       "</tr>\n",
       "<tr>\n",
       "  <th>Covariance Type:</th>      <td>nonrobust</td>    <th>                     </th>     <td> </td>   \n",
       "</tr>\n",
       "</table>\n",
       "<table class=\"simpletable\">\n",
       "<tr>\n",
       "      <td></td>        <th>coef</th>     <th>std err</th>      <th>t</th>      <th>P>|t|</th>  <th>[0.025</th>    <th>0.975]</th>  \n",
       "</tr>\n",
       "<tr>\n",
       "  <th>const</th>    <td>    0.4586</td> <td>    0.047</td> <td>    9.831</td> <td> 0.000</td> <td>    0.367</td> <td>    0.550</td>\n",
       "</tr>\n",
       "<tr>\n",
       "  <th>pcnv</th>     <td>    0.5467</td> <td>    0.167</td> <td>    3.280</td> <td> 0.001</td> <td>    0.220</td> <td>    0.874</td>\n",
       "</tr>\n",
       "<tr>\n",
       "  <th>avgsen</th>   <td>    0.0018</td> <td>    0.014</td> <td>    0.129</td> <td> 0.897</td> <td>   -0.026</td> <td>    0.030</td>\n",
       "</tr>\n",
       "<tr>\n",
       "  <th>ptime86</th>  <td>    0.3162</td> <td>    0.059</td> <td>    5.391</td> <td> 0.000</td> <td>    0.201</td> <td>    0.431</td>\n",
       "</tr>\n",
       "<tr>\n",
       "  <th>qemp86</th>   <td>    0.1759</td> <td>    0.058</td> <td>    3.043</td> <td> 0.002</td> <td>    0.063</td> <td>    0.289</td>\n",
       "</tr>\n",
       "<tr>\n",
       "  <th>inc86</th>    <td>   -0.0101</td> <td>    0.003</td> <td>   -3.908</td> <td> 0.000</td> <td>   -0.015</td> <td>   -0.005</td>\n",
       "</tr>\n",
       "<tr>\n",
       "  <th>pcnvsq</th>   <td>   -0.7054</td> <td>    0.157</td> <td>   -4.481</td> <td> 0.000</td> <td>   -1.014</td> <td>   -0.397</td>\n",
       "</tr>\n",
       "<tr>\n",
       "  <th>pt86sq</th>   <td>   -0.0313</td> <td>    0.005</td> <td>   -6.436</td> <td> 0.000</td> <td>   -0.041</td> <td>   -0.022</td>\n",
       "</tr>\n",
       "<tr>\n",
       "  <th>inc86sq</th>  <td> 2.474e-06</td> <td> 2.89e-06</td> <td>    0.856</td> <td> 0.392</td> <td>-3.19e-06</td> <td> 8.14e-06</td>\n",
       "</tr>\n",
       "<tr>\n",
       "  <th>qemp86sq</th> <td>   -0.0522</td> <td>    0.015</td> <td>   -3.394</td> <td> 0.001</td> <td>   -0.082</td> <td>   -0.022</td>\n",
       "</tr>\n",
       "<tr>\n",
       "  <th>avgsensq</th> <td>   -0.0002</td> <td>    0.000</td> <td>   -0.491</td> <td> 0.623</td> <td>   -0.001</td> <td>    0.001</td>\n",
       "</tr>\n",
       "<tr>\n",
       "  <th>pcnavg</th>   <td>    0.0151</td> <td>    0.019</td> <td>    0.802</td> <td> 0.422</td> <td>   -0.022</td> <td>    0.052</td>\n",
       "</tr>\n",
       "<tr>\n",
       "  <th>pcnpti</th>   <td>   -0.0029</td> <td>    0.032</td> <td>   -0.092</td> <td> 0.927</td> <td>   -0.065</td> <td>    0.059</td>\n",
       "</tr>\n",
       "<tr>\n",
       "  <th>pcnqem</th>   <td>   -0.0298</td> <td>    0.035</td> <td>   -0.840</td> <td> 0.401</td> <td>   -0.099</td> <td>    0.040</td>\n",
       "</tr>\n",
       "<tr>\n",
       "  <th>pcninc</th>   <td>    0.0008</td> <td>    0.001</td> <td>    1.053</td> <td> 0.292</td> <td>   -0.001</td> <td>    0.002</td>\n",
       "</tr>\n",
       "<tr>\n",
       "  <th>avgpti</th>   <td>   -0.0009</td> <td>    0.001</td> <td>   -0.753</td> <td> 0.451</td> <td>   -0.003</td> <td>    0.002</td>\n",
       "</tr>\n",
       "<tr>\n",
       "  <th>avgqem</th>   <td>   -0.0005</td> <td>    0.005</td> <td>   -0.106</td> <td> 0.915</td> <td>   -0.010</td> <td>    0.009</td>\n",
       "</tr>\n",
       "<tr>\n",
       "  <th>avginc</th>   <td> -8.73e-05</td> <td>    0.000</td> <td>   -0.513</td> <td> 0.608</td> <td>   -0.000</td> <td>    0.000</td>\n",
       "</tr>\n",
       "<tr>\n",
       "  <th>ptiqem</th>   <td>    0.0156</td> <td>    0.045</td> <td>    0.350</td> <td> 0.727</td> <td>   -0.072</td> <td>    0.103</td>\n",
       "</tr>\n",
       "<tr>\n",
       "  <th>ptiinc</th>   <td>   -0.0056</td> <td>    0.003</td> <td>   -1.706</td> <td> 0.088</td> <td>   -0.012</td> <td>    0.001</td>\n",
       "</tr>\n",
       "<tr>\n",
       "  <th>qeminc</th>   <td>    0.0021</td> <td>    0.001</td> <td>    2.856</td> <td> 0.004</td> <td>    0.001</td> <td>    0.004</td>\n",
       "</tr>\n",
       "<tr>\n",
       "  <th>black</th>    <td>    0.2914</td> <td>    0.045</td> <td>    6.481</td> <td> 0.000</td> <td>    0.203</td> <td>    0.380</td>\n",
       "</tr>\n",
       "<tr>\n",
       "  <th>hispan</th>   <td>    0.1612</td> <td>    0.039</td> <td>    4.082</td> <td> 0.000</td> <td>    0.084</td> <td>    0.239</td>\n",
       "</tr>\n",
       "</table>\n",
       "<table class=\"simpletable\">\n",
       "<tr>\n",
       "  <th>Omnibus:</th>       <td>2403.709</td> <th>  Durbin-Watson:     </th>  <td>   1.826</td> \n",
       "</tr>\n",
       "<tr>\n",
       "  <th>Prob(Omnibus):</th>  <td> 0.000</td>  <th>  Jarque-Bera (JB):  </th> <td>119888.527</td>\n",
       "</tr>\n",
       "<tr>\n",
       "  <th>Skew:</th>           <td> 3.976</td>  <th>  Prob(JB):          </th>  <td>    0.00</td> \n",
       "</tr>\n",
       "<tr>\n",
       "  <th>Kurtosis:</th>       <td>34.506</td>  <th>  Cond. No.          </th>  <td>2.57e+05</td> \n",
       "</tr>\n",
       "</table><br/><br/>Notes:<br/>[1] Standard Errors assume that the covariance matrix of the errors is correctly specified.<br/>[2] The condition number is large, 2.57e+05. This might indicate that there are<br/>strong multicollinearity or other numerical problems."
      ],
      "text/plain": [
       "<class 'statsmodels.iolib.summary.Summary'>\n",
       "\"\"\"\n",
       "                            OLS Regression Results                            \n",
       "==============================================================================\n",
       "Dep. Variable:                 narr86   R-squared:                       0.110\n",
       "Model:                            OLS   Adj. R-squared:                  0.102\n",
       "Method:                 Least Squares   F-statistic:                     15.11\n",
       "Date:                Thu, 23 Mar 2023   Prob (F-statistic):           1.31e-53\n",
       "Time:                        15:02:23   Log-Likelihood:                -3294.1\n",
       "No. Observations:                2725   AIC:                             6634.\n",
       "Df Residuals:                    2702   BIC:                             6770.\n",
       "Df Model:                          22                                         \n",
       "Covariance Type:            nonrobust                                         \n",
       "==============================================================================\n",
       "                 coef    std err          t      P>|t|      [0.025      0.975]\n",
       "------------------------------------------------------------------------------\n",
       "const          0.4586      0.047      9.831      0.000       0.367       0.550\n",
       "pcnv           0.5467      0.167      3.280      0.001       0.220       0.874\n",
       "avgsen         0.0018      0.014      0.129      0.897      -0.026       0.030\n",
       "ptime86        0.3162      0.059      5.391      0.000       0.201       0.431\n",
       "qemp86         0.1759      0.058      3.043      0.002       0.063       0.289\n",
       "inc86         -0.0101      0.003     -3.908      0.000      -0.015      -0.005\n",
       "pcnvsq        -0.7054      0.157     -4.481      0.000      -1.014      -0.397\n",
       "pt86sq        -0.0313      0.005     -6.436      0.000      -0.041      -0.022\n",
       "inc86sq     2.474e-06   2.89e-06      0.856      0.392   -3.19e-06    8.14e-06\n",
       "qemp86sq      -0.0522      0.015     -3.394      0.001      -0.082      -0.022\n",
       "avgsensq      -0.0002      0.000     -0.491      0.623      -0.001       0.001\n",
       "pcnavg         0.0151      0.019      0.802      0.422      -0.022       0.052\n",
       "pcnpti        -0.0029      0.032     -0.092      0.927      -0.065       0.059\n",
       "pcnqem        -0.0298      0.035     -0.840      0.401      -0.099       0.040\n",
       "pcninc         0.0008      0.001      1.053      0.292      -0.001       0.002\n",
       "avgpti        -0.0009      0.001     -0.753      0.451      -0.003       0.002\n",
       "avgqem        -0.0005      0.005     -0.106      0.915      -0.010       0.009\n",
       "avginc      -8.73e-05      0.000     -0.513      0.608      -0.000       0.000\n",
       "ptiqem         0.0156      0.045      0.350      0.727      -0.072       0.103\n",
       "ptiinc        -0.0056      0.003     -1.706      0.088      -0.012       0.001\n",
       "qeminc         0.0021      0.001      2.856      0.004       0.001       0.004\n",
       "black          0.2914      0.045      6.481      0.000       0.203       0.380\n",
       "hispan         0.1612      0.039      4.082      0.000       0.084       0.239\n",
       "==============================================================================\n",
       "Omnibus:                     2403.709   Durbin-Watson:                   1.826\n",
       "Prob(Omnibus):                  0.000   Jarque-Bera (JB):           119888.527\n",
       "Skew:                           3.976   Prob(JB):                         0.00\n",
       "Kurtosis:                      34.506   Cond. No.                     2.57e+05\n",
       "==============================================================================\n",
       "\n",
       "Notes:\n",
       "[1] Standard Errors assume that the covariance matrix of the errors is correctly specified.\n",
       "[2] The condition number is large, 2.57e+05. This might indicate that there are\n",
       "strong multicollinearity or other numerical problems.\n",
       "\"\"\""
      ]
     },
     "execution_count": 51,
     "metadata": {},
     "output_type": "execute_result"
    }
   ],
   "source": [
    "results_b_h.summary()"
   ]
  },
  {
   "cell_type": "code",
   "execution_count": 49,
   "metadata": {},
   "outputs": [
    {
     "name": "stdout",
     "output_type": "stream",
     "text": [
      "R^2 with hispan and black added:  0.10953635178175547\n"
     ]
    }
   ],
   "source": [
    "print('R^2 with hispan and black added: ', results_b_h.rsquared)"
   ]
  },
  {
   "cell_type": "markdown",
   "metadata": {},
   "source": [
    "(3): Times arrested are positively related to previous crime activities including prior conviction, sentence length, and time in prison. But negatively correlated to income level. Square terms can also contribute to the result. However, interaction terms are not so important in this case. Race is a back factor to times arrested because black and hispan are highly positively correlated to it. \n",
    "\n",
    "\n",
    "(4): pcnv, ptime86, qemp86, inc86, pcnvsq, pt86sq, qemp86sq, qeminc, black and hispan are statistically significant according to regression table 2.\n",
    "\n",
    "(5): Without race: $R^2 = 0.09346585509182115$, if adding black and hispan as control variables, the $R^2$ becomes  0.10953635178175547"
   ]
  },
  {
   "cell_type": "markdown",
   "metadata": {},
   "source": [
    "### 2\n",
    "Considering all features from the baseline model, which model is selected according to the best subset approach(you may adjust the variable nvmax to fix an upper limit on the number of included features)? To select your final model, consider Cp, BIC, and adjusted $R^2$."
   ]
  },
  {
   "cell_type": "markdown",
   "metadata": {},
   "source": [
    "`Solution`:\n",
    "\n",
    "We first exclude the non-statistically significant variables. Then use forward-stepwise method (see ESL Page58-9). For specific codes, see the code black below.  My reference for this question can be found [here]{https://xavierbourretsicotte.github.io/subset_selection.html}"
   ]
  },
  {
   "cell_type": "code",
   "execution_count": 74,
   "metadata": {},
   "outputs": [
    {
     "data": {
      "text/plain": [
       "21"
      ]
     },
     "execution_count": 74,
     "metadata": {},
     "output_type": "execute_result"
    }
   ],
   "source": [
    "X.columns.value_counts().sum()"
   ]
  },
  {
   "cell_type": "code",
   "execution_count": 93,
   "metadata": {},
   "outputs": [],
   "source": [
    "import itertools\n",
    "AIC_list = []\n",
    "BIC_list = []\n",
    "Adjust_r2 = []\n",
    "feature_list = []\n",
    "num_features = []\n",
    "RSS_list = []\n",
    "\n",
    "nvmax = 21  #excluding black and hispan\n",
    "for i in range(1,nvmax+1):\n",
    "    for combo in itertools.combinations(X.columns,i): #\n",
    "        temp_model = sm.OLS(y,X[list(combo)])\n",
    "        temp_result = temp_model.fit()\n",
    "        feature_list.append(combo)\n",
    "        AIC_list.append(temp_result.aic)\n",
    "        BIC_list.append(temp_result.bic)\n",
    "        Adjust_r2.append(temp_result.rsquared)\n",
    "        num_features.append(len(combo))\n",
    "        RSS_list.append(temp_result.ssr)\n",
    "\n",
    "df = pd.DataFrame({'numb_features': num_features,'features': feature_list,'RSS': RSS_list, 'adjusted_R': Adjust_r2 ,'features':feature_list,'AIC': AIC_list,'BIC':BIC_list})"
   ]
  },
  {
   "cell_type": "markdown",
   "metadata": {},
   "source": [
    "The above code is time complexity $O(n^2)$, and it's probably the only way to traverse all possibilities. On macbook air cpu, it ran 167m 11.7s"
   ]
  },
  {
   "cell_type": "code",
   "execution_count": 94,
   "metadata": {},
   "outputs": [
    {
     "data": {
      "text/html": [
       "<div>\n",
       "<style scoped>\n",
       "    .dataframe tbody tr th:only-of-type {\n",
       "        vertical-align: middle;\n",
       "    }\n",
       "\n",
       "    .dataframe tbody tr th {\n",
       "        vertical-align: top;\n",
       "    }\n",
       "\n",
       "    .dataframe thead th {\n",
       "        text-align: right;\n",
       "    }\n",
       "</style>\n",
       "<table border=\"1\" class=\"dataframe\">\n",
       "  <thead>\n",
       "    <tr style=\"text-align: right;\">\n",
       "      <th></th>\n",
       "      <th>numb_features</th>\n",
       "      <th>features</th>\n",
       "      <th>RSS</th>\n",
       "      <th>adjusted_R</th>\n",
       "      <th>AIC</th>\n",
       "      <th>BIC</th>\n",
       "    </tr>\n",
       "  </thead>\n",
       "  <tbody>\n",
       "    <tr>\n",
       "      <th>0</th>\n",
       "      <td>1</td>\n",
       "      <td>(const,)</td>\n",
       "      <td>2010.347156</td>\n",
       "      <td>2.220446e-16</td>\n",
       "      <td>6906.376263</td>\n",
       "      <td>6912.286487</td>\n",
       "    </tr>\n",
       "    <tr>\n",
       "      <th>1</th>\n",
       "      <td>1</td>\n",
       "      <td>(pcnv,)</td>\n",
       "      <td>2317.666553</td>\n",
       "      <td>5.632469e-02</td>\n",
       "      <td>7294.016946</td>\n",
       "      <td>7299.927170</td>\n",
       "    </tr>\n",
       "    <tr>\n",
       "      <th>2</th>\n",
       "      <td>1</td>\n",
       "      <td>(avgsen,)</td>\n",
       "      <td>2430.617550</td>\n",
       "      <td>1.033487e-02</td>\n",
       "      <td>7423.684647</td>\n",
       "      <td>7429.594871</td>\n",
       "    </tr>\n",
       "    <tr>\n",
       "      <th>3</th>\n",
       "      <td>1</td>\n",
       "      <td>(ptime86,)</td>\n",
       "      <td>2448.189096</td>\n",
       "      <td>3.180335e-03</td>\n",
       "      <td>7443.313493</td>\n",
       "      <td>7449.223717</td>\n",
       "    </tr>\n",
       "    <tr>\n",
       "      <th>4</th>\n",
       "      <td>1</td>\n",
       "      <td>(qemp86,)</td>\n",
       "      <td>2290.870916</td>\n",
       "      <td>6.723497e-02</td>\n",
       "      <td>7262.328398</td>\n",
       "      <td>7268.238621</td>\n",
       "    </tr>\n",
       "  </tbody>\n",
       "</table>\n",
       "</div>"
      ],
      "text/plain": [
       "   numb_features    features          RSS    adjusted_R          AIC  \\\n",
       "0              1    (const,)  2010.347156  2.220446e-16  6906.376263   \n",
       "1              1     (pcnv,)  2317.666553  5.632469e-02  7294.016946   \n",
       "2              1   (avgsen,)  2430.617550  1.033487e-02  7423.684647   \n",
       "3              1  (ptime86,)  2448.189096  3.180335e-03  7443.313493   \n",
       "4              1   (qemp86,)  2290.870916  6.723497e-02  7262.328398   \n",
       "\n",
       "           BIC  \n",
       "0  6912.286487  \n",
       "1  7299.927170  \n",
       "2  7429.594871  \n",
       "3  7449.223717  \n",
       "4  7268.238621  "
      ]
     },
     "execution_count": 94,
     "metadata": {},
     "output_type": "execute_result"
    }
   ],
   "source": [
    "df.head()"
   ]
  },
  {
   "cell_type": "code",
   "execution_count": 95,
   "metadata": {},
   "outputs": [
    {
     "data": {
      "text/plain": [
       "(2097151, 6)"
      ]
     },
     "execution_count": 95,
     "metadata": {},
     "output_type": "execute_result"
    }
   ],
   "source": [
    "df.shape"
   ]
  },
  {
   "cell_type": "code",
   "execution_count": 112,
   "metadata": {},
   "outputs": [
    {
     "data": {
      "text/plain": [
       "6662.680230286466"
      ]
     },
     "execution_count": 112,
     "metadata": {},
     "output_type": "execute_result"
    }
   ],
   "source": [
    "df['AIC'].min()"
   ]
  },
  {
   "cell_type": "code",
   "execution_count": 113,
   "metadata": {},
   "outputs": [],
   "source": [
    "df_aic = df['AIC'].idxmin()"
   ]
  },
  {
   "cell_type": "code",
   "execution_count": 115,
   "metadata": {},
   "outputs": [
    {
     "data": {
      "text/plain": [
       "numb_features                                                   10\n",
       "features         (const, pcnv, ptime86, qemp86, inc86, pcnvsq, ...\n",
       "RSS                                                     1826.26369\n",
       "adjusted_R                                                0.091568\n",
       "AIC                                                     6662.68023\n",
       "BIC                                                    6721.782467\n",
       "C_p                                                       0.675137\n",
       "Name: 727803, dtype: object"
      ]
     },
     "execution_count": 115,
     "metadata": {},
     "output_type": "execute_result"
    }
   ],
   "source": [
    "df_aic = df.iloc[df_aic,:]\n",
    "df_aic"
   ]
  },
  {
   "cell_type": "code",
   "execution_count": 118,
   "metadata": {},
   "outputs": [
    {
     "data": {
      "text/plain": [
       "('const',\n",
       " 'pcnv',\n",
       " 'ptime86',\n",
       " 'qemp86',\n",
       " 'inc86',\n",
       " 'pcnvsq',\n",
       " 'pt86sq',\n",
       " 'qemp86sq',\n",
       " 'ptiinc',\n",
       " 'qeminc')"
      ]
     },
     "execution_count": 118,
     "metadata": {},
     "output_type": "execute_result"
    }
   ],
   "source": [
    "df_aic['features']"
   ]
  },
  {
   "cell_type": "markdown",
   "metadata": {},
   "source": [
    "If pick the smallest AIC number, the feature numbers are 10. Features as above."
   ]
  },
  {
   "cell_type": "code",
   "execution_count": 119,
   "metadata": {},
   "outputs": [
    {
     "data": {
      "text/plain": [
       "6713.890363306863"
      ]
     },
     "execution_count": 119,
     "metadata": {},
     "output_type": "execute_result"
    }
   ],
   "source": [
    "df['BIC'].min()"
   ]
  },
  {
   "cell_type": "code",
   "execution_count": 120,
   "metadata": {},
   "outputs": [
    {
     "data": {
      "text/plain": [
       "numb_features                                                    7\n",
       "features         (const, pcnv, ptime86, inc86, pcnvsq, pt86sq, ...\n",
       "RSS                                                    1836.909424\n",
       "adjusted_R                                                0.086273\n",
       "AIC                                                    6672.518797\n",
       "BIC                                                    6713.890363\n",
       "C_p                                                       0.677559\n",
       "Name: 85779, dtype: object"
      ]
     },
     "execution_count": 120,
     "metadata": {},
     "output_type": "execute_result"
    }
   ],
   "source": [
    "df_bic = df['BIC'].idxmin()\n",
    "df_bic= df.iloc[df_bic,:]\n",
    "df_bic"
   ]
  },
  {
   "cell_type": "code",
   "execution_count": 121,
   "metadata": {},
   "outputs": [
    {
     "data": {
      "text/plain": [
       "('const', 'pcnv', 'ptime86', 'inc86', 'pcnvsq', 'pt86sq', 'inc86sq')"
      ]
     },
     "execution_count": 121,
     "metadata": {},
     "output_type": "execute_result"
    }
   ],
   "source": [
    "df_bic['features']"
   ]
  },
  {
   "cell_type": "markdown",
   "metadata": {},
   "source": [
    "If pick BIC criterion, the features have 7 terms as above. "
   ]
  },
  {
   "cell_type": "code",
   "execution_count": 111,
   "metadata": {},
   "outputs": [],
   "source": [
    "m = len(y)\n",
    "hat_sigma_squared = (1/(m - nvmax -1)) * min(df['RSS'])\n",
    "df['C_p'] = (1/m) * (df['RSS'] + 2 * df['numb_features'] * hat_sigma_squared ) #To compute C_p\n"
   ]
  },
  {
   "cell_type": "code",
   "execution_count": 122,
   "metadata": {},
   "outputs": [
    {
     "data": {
      "text/plain": [
       "numb_features                                                   10\n",
       "features         (const, pcnv, ptime86, qemp86, inc86, pcnvsq, ...\n",
       "RSS                                                     1826.26369\n",
       "adjusted_R                                                0.091568\n",
       "AIC                                                     6662.68023\n",
       "BIC                                                    6721.782467\n",
       "C_p                                                       0.675137\n",
       "Name: 727803, dtype: object"
      ]
     },
     "execution_count": 122,
     "metadata": {},
     "output_type": "execute_result"
    }
   ],
   "source": [
    "df_cp = df['C_p'].idxmin()\n",
    "df_cp = df.iloc[df_cp,:]\n",
    "df_cp"
   ]
  },
  {
   "cell_type": "code",
   "execution_count": 123,
   "metadata": {},
   "outputs": [
    {
     "data": {
      "text/plain": [
       "('const',\n",
       " 'pcnv',\n",
       " 'ptime86',\n",
       " 'qemp86',\n",
       " 'inc86',\n",
       " 'pcnvsq',\n",
       " 'pt86sq',\n",
       " 'qemp86sq',\n",
       " 'ptiinc',\n",
       " 'qeminc')"
      ]
     },
     "execution_count": 123,
     "metadata": {},
     "output_type": "execute_result"
    }
   ],
   "source": [
    "df_cp['features']"
   ]
  },
  {
   "cell_type": "markdown",
   "metadata": {},
   "source": [
    "By the $C_P$ criterion, there should be 10 features. And the features as above."
   ]
  },
  {
   "cell_type": "code",
   "execution_count": 124,
   "metadata": {},
   "outputs": [
    {
     "data": {
      "text/plain": [
       "0.21665677544990147"
      ]
     },
     "execution_count": 124,
     "metadata": {},
     "output_type": "execute_result"
    }
   ],
   "source": [
    "df['adjusted_R'].max()"
   ]
  },
  {
   "cell_type": "code",
   "execution_count": 125,
   "metadata": {},
   "outputs": [
    {
     "data": {
      "text/plain": [
       "numb_features                                                   20\n",
       "features         (pcnv, avgsen, ptime86, qemp86, inc86, pcnvsq,...\n",
       "RSS                                                    1923.890959\n",
       "adjusted_R                                                0.216657\n",
       "AIC                                                    6824.591409\n",
       "BIC                                                    6942.795883\n",
       "C_p                                                       0.715912\n",
       "Name: 2097149, dtype: object"
      ]
     },
     "execution_count": 125,
     "metadata": {},
     "output_type": "execute_result"
    }
   ],
   "source": [
    "df_adR= df['adjusted_R'].idxmax()\n",
    "df_adR = df.iloc[df_adR,:]\n",
    "df_adR"
   ]
  },
  {
   "cell_type": "code",
   "execution_count": 126,
   "metadata": {},
   "outputs": [
    {
     "data": {
      "text/plain": [
       "('pcnv',\n",
       " 'avgsen',\n",
       " 'ptime86',\n",
       " 'qemp86',\n",
       " 'inc86',\n",
       " 'pcnvsq',\n",
       " 'pt86sq',\n",
       " 'inc86sq',\n",
       " 'qemp86sq',\n",
       " 'avgsensq',\n",
       " 'pcnavg',\n",
       " 'pcnpti',\n",
       " 'pcnqem',\n",
       " 'pcninc',\n",
       " 'avgpti',\n",
       " 'avgqem',\n",
       " 'avginc',\n",
       " 'ptiqem',\n",
       " 'ptiinc',\n",
       " 'qeminc')"
      ]
     },
     "execution_count": 126,
     "metadata": {},
     "output_type": "execute_result"
    }
   ],
   "source": [
    "df_adR['features']"
   ]
  },
  {
   "cell_type": "markdown",
   "metadata": {},
   "source": [
    "It's obvious that more variables into the model more adjusted R."
   ]
  },
  {
   "cell_type": "code",
   "execution_count": 127,
   "metadata": {},
   "outputs": [],
   "source": [
    "import matplotlib.pyplot as plt\n"
   ]
  },
  {
   "cell_type": "code",
   "execution_count": 129,
   "metadata": {},
   "outputs": [
    {
     "data": {
      "image/png": "[encoded data removed]",
      "text/plain": [
       "<Figure size 1296x432 with 4 Axes>"
      ]
     },
     "metadata": {
      "needs_background": "light"
     },
     "output_type": "display_data"
    }
   ],
   "source": [
    "variables = ['C_p', 'AIC','BIC','adjusted_R']\n",
    "fig = plt.figure(figsize = (18,6))\n",
    "\n",
    "for i,v in enumerate(variables):\n",
    "    ax = fig.add_subplot(1, 4, i+1)\n",
    "    ax.plot(df['numb_features'],df[v], color = 'lightblue')\n",
    "    ax.scatter(df['numb_features'],df[v], color = 'darkblue')\n",
    "    if v == 'adjusted_R':\n",
    "        ax.plot(df[v].idxmax(),df[v].max(), marker = 'x', markersize = 20)\n",
    "    else:\n",
    "        ax.plot(df[v].idxmin(),df[v].min(), marker = 'x', markersize = 20)\n",
    "    ax.set_xlabel('Number of predictors')\n",
    "    ax.set_ylabel(v)\n",
    "\n",
    "fig.suptitle('Subset selection using C_p, AIC, BIC, Adjusted R2', fontsize = 16)\n",
    "plt.show()"
   ]
  },
  {
   "cell_type": "markdown",
   "metadata": {},
   "source": [
    "### 3. Set a seed and estimate the test MSE using validation set. 10-fold CV and LOOCV for the general model in question 1 and the selected model in question2. Do you improve forecasts with the best subset approach?"
   ]
  },
  {
   "cell_type": "code",
   "execution_count": 130,
   "metadata": {},
   "outputs": [],
   "source": [
    "from sklearn.model_selection import KFold\n",
    "from sklearn.model_selection import train_test_split\n",
    "from sklearn.metrics import mean_squared_error\n",
    "from sklearn.model_selection import LeaveOneOut"
   ]
  },
  {
   "cell_type": "code",
   "execution_count": null,
   "metadata": {},
   "outputs": [],
   "source": [
    "# Generally for ml, set seed = 42\n"
   ]
  }
 ],
 "metadata": {
  "kernelspec": {
   "display_name": "Python 3.8.8 ('base')",
   "language": "python",
   "name": "python3"
  },
  "language_info": {
   "codemirror_mode": {
    "name": "ipython",
    "version": 3
   },
   "file_extension": ".py",
   "mimetype": "text/x-python",
   "name": "python",
   "nbconvert_exporter": "python",
   "pygments_lexer": "ipython3",
   "version": "3.8.8"
  },
  "orig_nbformat": 4,
  "vscode": {
   "interpreter": {
    "hash": "174dba2b823f142a2254677bf58d6582653d4bc6f5823b282d596b6febc5458e"
   }
  }
 },
 "nbformat": 4,
 "nbformat_minor": 2
}
